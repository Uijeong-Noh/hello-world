{
  "nbformat": 4,
  "nbformat_minor": 0,
  "metadata": {
    "colab": {
      "name": "Untitled0.ipynb",
      "version": "0.3.2",
      "provenance": [],
      "collapsed_sections": [],
      "include_colab_link": true
    },
    "kernelspec": {
      "name": "python3",
      "display_name": "Python 3"
    }
  },
  "cells": [
    {
      "cell_type": "markdown",
      "metadata": {
        "id": "view-in-github",
        "colab_type": "text"
      },
      "source": [
        "<a href=\"https://colab.research.google.com/github/Uijeong-Noh/hello-world/blob/master/Untitled0.ipynb\" target=\"_parent\"><img src=\"https://colab.research.google.com/assets/colab-badge.svg\" alt=\"Open In Colab\"/></a>"
      ]
    },
    {
      "cell_type": "code",
      "metadata": {
        "id": "T3NXxvCAtnYJ",
        "colab_type": "code",
        "colab": {}
      },
      "source": [
        "import numpy as np\n",
        "from sklearn.linear_model import LogisticRegression\n",
        "from sklearn.linear_model import LinearRegression\n",
        "from matplotlib import pyplot as plt\n",
        "import pandas as pd"
      ],
      "execution_count": 0,
      "outputs": []
    },
    {
      "cell_type": "code",
      "metadata": {
        "id": "gVPh2kOTvVUe",
        "colab_type": "code",
        "colab": {}
      },
      "source": [
        "#Data\n",
        "data = np.array([[1, 1.099],\n",
        "               [2, 0.774],\n",
        "               [3, 1.641],\n",
        "               [4, 1.059],\n",
        "               [5, 0.6],\n",
        "               [6, 0.914],\n",
        "               [7, 1.087],\n",
        "               [8, 0.939],\n",
        "               [9, 0.581],\n",
        "               [10, 0.673],\n",
        "               [11, 1.067],\n",
        "               [12, 1.266],\n",
        "               [13, 0.977],\n",
        "               [14, 1.141],\n",
        "               [15, 0.355],\n",
        "               [16, 0.459],\n",
        "               [17, 0.416],\n",
        "               [18, 0.938],\n",
        "               [19, 0.564],\n",
        "               [20, 0.857],\n",
        "               [21, 0.662],\n",
        "               [22, 0.36],\n",
        "               [23, 0.275],\n",
        "               [24, 0.427],\n",
        "               [25, 0.745],\n",
        "               [26, 0.145],\n",
        "               [27, 0.132],\n",
        "               [28, 0.382],\n",
        "               [29, 0.16],\n",
        "               [30, 1.12],\n",
        "               [31, 0.175],\n",
        "               [32, 0.068],\n",
        "               [33, 0.487],\n",
        "               [34, 0.33],\n",
        "               [35, 0.666]])"
      ],
      "execution_count": 0,
      "outputs": []
    },
    {
      "cell_type": "code",
      "metadata": {
        "id": "kSIb8AEUDOe5",
        "colab_type": "code",
        "colab": {}
      },
      "source": [
        "x_data = data[:,0].reshape(-1,1)\n",
        "y_rawdata = data[:,1].reshape(-1,1)"
      ],
      "execution_count": 0,
      "outputs": []
    },
    {
      "cell_type": "code",
      "metadata": {
        "id": "Kgys9lBNpWnc",
        "colab_type": "code",
        "outputId": "9853170f-7f04-49a8-b309-85d8f6378f35",
        "colab": {
          "base_uri": "https://localhost:8080/",
          "height": 665
        }
      },
      "source": [
        "#print(\"Y_data : \\n\", y_data)\n",
        "print(\"Y_rawdata : \\n\", y_rawdata)"
      ],
      "execution_count": 44,
      "outputs": [
        {
          "output_type": "stream",
          "text": [
            "Y_rawdata : \n",
            " [[1.099]\n",
            " [0.774]\n",
            " [1.641]\n",
            " [1.059]\n",
            " [0.6  ]\n",
            " [0.914]\n",
            " [1.087]\n",
            " [0.939]\n",
            " [0.581]\n",
            " [0.673]\n",
            " [1.067]\n",
            " [1.266]\n",
            " [0.977]\n",
            " [1.141]\n",
            " [0.355]\n",
            " [0.459]\n",
            " [0.416]\n",
            " [0.938]\n",
            " [0.564]\n",
            " [0.857]\n",
            " [0.662]\n",
            " [0.36 ]\n",
            " [0.275]\n",
            " [0.427]\n",
            " [0.745]\n",
            " [0.145]\n",
            " [0.132]\n",
            " [0.382]\n",
            " [0.16 ]\n",
            " [1.12 ]\n",
            " [0.175]\n",
            " [0.068]\n",
            " [0.487]\n",
            " [0.33 ]\n",
            " [0.666]]\n"
          ],
          "name": "stdout"
        }
      ]
    },
    {
      "cell_type": "code",
      "metadata": {
        "id": "AcpLuF_gmkM_",
        "colab_type": "code",
        "colab": {}
      },
      "source": [
        "y_data = y_rawdata * 1000"
      ],
      "execution_count": 0,
      "outputs": []
    },
    {
      "cell_type": "code",
      "metadata": {
        "id": "ZIVAKz7mEF1Z",
        "colab_type": "code",
        "colab": {}
      },
      "source": [
        "model = LogisticRegression(random_state=0, solver='lbfgs')\n",
        "model_2 = LinearRegression()"
      ],
      "execution_count": 0,
      "outputs": []
    },
    {
      "cell_type": "code",
      "metadata": {
        "id": "fpNLRlVwm5Kk",
        "colab_type": "code",
        "outputId": "2ca99446-b291-4807-e4ec-a4ef02525d53",
        "colab": {
          "base_uri": "https://localhost:8080/",
          "height": 89
        }
      },
      "source": [
        "solution = model.fit(x_data, y_data)\n",
        "\n",
        "model_2.fit(x_data, y_data)\n",
        "y_model2 = model_2.intercept_ + model_2.coef_*x_data"
      ],
      "execution_count": 47,
      "outputs": [
        {
          "output_type": "stream",
          "text": [
            "/usr/local/lib/python3.6/dist-packages/sklearn/utils/validation.py:724: DataConversionWarning: A column-vector y was passed when a 1d array was expected. Please change the shape of y to (n_samples, ), for example using ravel().\n",
            "  y = column_or_1d(y, warn=True)\n",
            "/usr/local/lib/python3.6/dist-packages/sklearn/linear_model/logistic.py:469: FutureWarning: Default multi_class will be changed to 'auto' in 0.22. Specify the multi_class option to silence this warning.\n",
            "  \"this warning.\", FutureWarning)\n"
          ],
          "name": "stderr"
        }
      ]
    },
    {
      "cell_type": "code",
      "metadata": {
        "id": "H1QPssMRngga",
        "colab_type": "code",
        "outputId": "119cf4f1-f6a1-4314-d4b2-b7557db8cb9f",
        "colab": {
          "base_uri": "https://localhost:8080/",
          "height": 281
        }
      },
      "source": [
        "plt.figure(1)\n",
        "plt.plot(x_data, solution.predict(x_data), 'r-', label='Regression')\n",
        "plt.plot(x_data, y_data, 'bo')\n",
        "plt.title('Logistic Regression')\n",
        "plt.show()"
      ],
      "execution_count": 51,
      "outputs": [
        {
          "output_type": "display_data",
          "data": {
            "image/png": "[encoded data removed]",
            "text/plain": [
              "<Figure size 432x288 with 1 Axes>"
            ]
          },
          "metadata": {
            "tags": []
          }
        }
      ]
    },
    {
      "cell_type": "code",
      "metadata": {
        "id": "q8yC9m_ArJwT",
        "colab_type": "code",
        "outputId": "1af2216e-a501-4422-8db3-eec8ba538011",
        "colab": {
          "base_uri": "https://localhost:8080/",
          "height": 281
        }
      },
      "source": [
        "plt.figure(2)\n",
        "plt.plot(x_data, y_data, 'bo', label='y_data')\n",
        "plt.plot(x_data, y_model2, 'r-', label='y_model')\n",
        "plt.title('Linear Regression')\n",
        "plt.show()"
      ],
      "execution_count": 49,
      "outputs": [
        {
          "output_type": "display_data",
          "data": {
            "image/png": "[encoded data removed]",
            "text/plain": [
              "<Figure size 432x288 with 1 Axes>"
            ]
          },
          "metadata": {
            "tags": []
          }
        }
      ]
    }
  ]
}